{
 "cells": [
  {
   "cell_type": "markdown",
   "source": [
    "# データ初期化作業\n",
    "データの読み込みを行う。\n",
    "\n",
    "| Index | Param | Description |\n",
    "|---|---|---|\n",
    "| 0 | Case Index |  |\n",
    "| 1 | Gender |  |\n",
    "| 2 | Age |  |\n",
    "| 3 | Height |  |\n",
    "| 4 | Weight |  |\n",
    "| 5 | MaxBP |  |\n",
    "| 6 | MinBP |  |\n",
    "| 7 | BTResult | 1.Normal 2.Needs Observation 3.Needs Advice 4.Doctor Consultation required |\n",
    "| 8 | HTResult | 1.Normal 2.Needs Observation 3.Needs Advice 4.Doctor Consultation required |\n",
    "| 9 | BMI | Weight/(Height)^2 |"
   ],
   "metadata": {
    "collapsed": false
   }
  },
  {
   "cell_type": "code",
   "execution_count": 31,
   "metadata": {
    "collapsed": true
   },
   "outputs": [
    {
     "name": "stdout",
     "output_type": "stream",
     "text": [
      "[[1, 0, 53, 167, 75, 144, 80, 4, 4, 26.89232313815483],\n",
      " [2, 1, 55, 153, 64, 143, 110, 4, 3, 27.33991199965825],\n",
      " [3, 0, 43, 168, 68, 119, 90, 2, 2, 24.09297052154195],\n",
      " [4, 0, 28, 175, 72, 115, 82, 1, 1, 23.510204081632654],\n",
      " [5, 1, 29, 160, 48, 120, 80, 1, 1, 18.75]]\n"
     ]
    }
   ],
   "source": [
    "import csv\n",
    "import pprint\n",
    "\n",
    "data = []\n",
    "with open(\"data_original.csv\", \"r\") as f:\n",
    "    reader = csv.reader(f)\n",
    "    for row in reader:\n",
    "        d = [int(row[0])]\n",
    "        if row[1] == '男':\n",
    "            d.append(0)\n",
    "        else:\n",
    "            d.append(1)\n",
    "        for p in row[2:]:\n",
    "            d.append(int(p))\n",
    "        d.append(d[4] / pow(d[3], 2) * pow(10, 4))\n",
    "        data.append(d)\n",
    "pprint.pprint(data[:5])"
   ]
  },
  {
   "cell_type": "markdown",
   "source": [
    "# 方針\n",
    "## 作成する散布図\n",
    "- BPResultとBMIの関係\n",
    "- MaxBP, MinBP, BTResultの関係→平均を求める?"
   ],
   "metadata": {
    "collapsed": false,
    "pycharm": {
     "name": "#%% md\n"
    }
   }
  },
  {
   "cell_type": "code",
   "execution_count": 24,
   "outputs": [
    {
     "name": "stdout",
     "output_type": "stream",
     "text": [
      "50\n",
      "9.9\n"
     ]
    }
   ],
   "source": [
    "from statistics import mean, median, variance, stdev\n",
    "\n",
    "print(len(data))\n",
    "print(data[2])"
   ],
   "metadata": {
    "collapsed": false,
    "pycharm": {
     "name": "#%%\n"
    }
   }
  },
  {
   "cell_type": "code",
   "execution_count": 26,
   "outputs": [
    {
     "data": {
      "text/plain": "<AxesSubplot:xlabel='sepal_length', ylabel='sepal_width'>"
     },
     "execution_count": 26,
     "metadata": {},
     "output_type": "execute_result"
    },
    {
     "data": {
      "text/plain": "<Figure size 432x288 with 1 Axes>",
      "image/png": "[encoded data removed]"
     },
     "metadata": {
      "needs_background": "light"
     },
     "output_type": "display_data"
    }
   ],
   "source": [
    "# library & dataset\n",
    "import seaborn as sns\n",
    "\n",
    "df = sns.load_dataset('iris')\n",
    "\n",
    "# use the function regplot to make a scatterplot\n",
    "sns.regplot(x=df[\"sepal_length\"], y=df[\"sepal_width\"])"
   ],
   "metadata": {
    "collapsed": false,
    "pycharm": {
     "name": "#%%\n"
    }
   }
  }
 ],
 "metadata": {
  "kernelspec": {
   "display_name": "Python 3",
   "language": "python",
   "name": "python3"
  },
  "language_info": {
   "codemirror_mode": {
    "name": "ipython",
    "version": 2
   },
   "file_extension": ".py",
   "mimetype": "text/x-python",
   "name": "python",
   "nbconvert_exporter": "python",
   "pygments_lexer": "ipython2",
   "version": "2.7.6"
  }
 },
 "nbformat": 4,
 "nbformat_minor": 0
}